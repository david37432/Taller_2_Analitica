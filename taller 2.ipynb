{
 "cells": [
  {
   "cell_type": "markdown",
   "metadata": {},
   "source": [
    "Taller #2\n",
    "Integrantes: \n",
    "Luisa Fernanda Carpintero \n",
    "Majo Melo \n",
    "David Eduardo Lopez Jimenez"
   ]
  },
  {
   "cell_type": "markdown",
   "metadata": {},
   "source": [
    "JUSTIFICACIÓN SELECCION DE BASE DE DATOS: \n",
    "Relevancia de la base de datos para su análisis:\n",
    "El análisis del volumen de visas colombianas recibidas desde 2017 es crucial para comprender las dinámicas migratorias y los factores socioeconómicos que impulsan la movilidad de personas hacia Colombia. Esta información permite identificar patrones de migración asociados a cambios políticos, económicos y sociales tanto en los países de origen como en Colombia. Además, su estudio facilita la formulación de políticas migratorias más eficientes y adaptadas a las tendencias actuales.\n",
    "\n",
    "Tipo de información contenida y su utilidad para el EDA:\n",
    "La base de datos incluye variables clave como el año de solicitud, nacionalidad, sexo, fecha de nacimiento, vocación de permanencia y número de solicitudes. Estos datos son útiles para el Análisis Exploratorio de Datos (EDA) porque permiten detectar tendencias migratorias, analizar la distribución de nacionalidades, identificar diferencias en la vocación de permanencia y evaluar si existen variaciones significativas en función del género o la edad. A través de visualizaciones y estadísticas descriptivas, se pueden extraer insights valiosos sobre la migración a Colombia y su posible relación con eventos globales o políticas gubernamentales."
   ]
  },
  {
   "cell_type": "markdown",
   "metadata": {},
   "source": [
    "1. Variables disponibles y tipos de datos"
   ]
  },
  {
   "cell_type": "code",
   "execution_count": 1,
   "metadata": {},
   "outputs": [
    {
     "name": "stdout",
     "output_type": "stream",
     "text": [
      "   Año Solicitud         Nacionalidad      Sexo Fecha de Nacimiento  \\\n",
      "0           2017          ECUATORIANA  FEMENINO          24/07/1897   \n",
      "1           2017  FEDERACION DE RUSIA  FEMENINO          03/05/1919   \n",
      "2           2017             FRANCESA  FEMENINO          20/08/1919   \n",
      "3           2017               CUBANA  FEMENINO          03/02/1922   \n",
      "4           2017       ESTADOUNIDENSE  FEMENINO          17/11/1922   \n",
      "\n",
      "       Vocación de permanencia  Número  \n",
      "0  Con vocación de permanencia       2  \n",
      "1  Sin vocación de permanencia       2  \n",
      "2  Sin vocación de permanencia       1  \n",
      "3  Sin vocación de permanencia       2  \n",
      "4  Sin vocación de permanencia       1  \n",
      "Año Solicitud               int64\n",
      "Nacionalidad               object\n",
      "Sexo                       object\n",
      "Fecha de Nacimiento        object\n",
      "Vocación de permanencia    object\n",
      "Número                      int64\n",
      "dtype: object\n"
     ]
    }
   ],
   "source": [
    "import pandas as pd\n",
    "\n",
    "# Cargar el dataset (asegúrate de tener el archivo CSV disponible)\n",
    "df = pd.read_csv(\"C://Users//David Lopez//OneDrive - Universidad de la Sabana//unisabana//Sexto Semestre//Analitica de datos//Taller 2//Volumen_de_solicitudes_de_visa_colombiana_recibidas_desde_2017_20250203.csv\", encoding=\"utf-8\")\n",
    "\n",
    "# Mostrar las primeras filas para ver la estructura\n",
    "print(df.head())\n",
    "\n",
    "# Identificar los tipos de datos\n",
    "print(df.dtypes)"
   ]
  },
  {
   "cell_type": "markdown",
   "metadata": {},
   "source": [
    "2. Total de registros y representatividad de la muestra"
   ]
  },
  {
   "cell_type": "code",
   "execution_count": 3,
   "metadata": {},
   "outputs": [
    {
     "name": "stdout",
     "output_type": "stream",
     "text": [
      "Total de registros: 349583\n",
      "                         Valores Nulos  Porcentaje (%)\n",
      "Año Solicitud                        0        0.000000\n",
      "Nacionalidad                         0        0.000000\n",
      "Sexo                                 7        0.002002\n",
      "Fecha de Nacimiento                  0        0.000000\n",
      "Vocación de permanencia              0        0.000000\n",
      "Número                               0        0.000000\n"
     ]
    }
   ],
   "source": [
    "print(f\"Total de registros: {df.shape[0]}\")\n",
    "# Contar valores nulos por columna\n",
    "missing_values = df.isnull().sum()\n",
    "\n",
    "# Calcular el porcentaje de valores nulos por columna\n",
    "missing_percentage = (missing_values / len(df)) * 100\n",
    "\n",
    "# Mostrar el resultado\n",
    "missing_df = pd.DataFrame({\"Valores Nulos\": missing_values, \"Porcentaje (%)\": missing_percentage})\n",
    "print(missing_df)\n"
   ]
  },
  {
   "cell_type": "code",
   "execution_count": null,
   "metadata": {},
   "outputs": [],
   "source": [
    "Tecnologías a utilizadar:\n",
    "Python: Lenguaje de programación principal.\n",
    "pandas: Para manipulación y limpieza de datos.\n",
    "numpy: Para operaciones matemáticas y estadísticas.\n",
    "matplotlib: Para visualización de datos."
   ]
  }
 ],
 "metadata": {
  "kernelspec": {
   "display_name": "analitica",
   "language": "python",
   "name": "python3"
  },
  "language_info": {
   "codemirror_mode": {
    "name": "ipython",
    "version": 3
   },
   "file_extension": ".py",
   "mimetype": "text/x-python",
   "name": "python",
   "nbconvert_exporter": "python",
   "pygments_lexer": "ipython3",
   "version": "3.13.1"
  }
 },
 "nbformat": 4,
 "nbformat_minor": 2
}
